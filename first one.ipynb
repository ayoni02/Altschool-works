{
  "nbformat": 4,
  "nbformat_minor": 0,
  "metadata": {
    "colab": {
      "provenance": [],
      "authorship_tag": "ABX9TyO3gf/8j55lsMP1brQe0xls",
      "include_colab_link": true
    },
    "kernelspec": {
      "name": "python3",
      "display_name": "Python 3"
    },
    "language_info": {
      "name": "python"
    }
  },
  "cells": [
    {
      "cell_type": "markdown",
      "metadata": {
        "id": "view-in-github",
        "colab_type": "text"
      },
      "source": [
        "<a href=\"https://colab.research.google.com/github/ayoni02/Altschool-works/blob/main/first%20one.ipynb\" target=\"_parent\"><img src=\"https://colab.research.google.com/assets/colab-badge.svg\" alt=\"Open In Colab\"/></a>"
      ]
    },
    {
      "cell_type": "markdown",
      "source": [
        "# 5 simple data types used in Python and its specific use cases.\n",
        "\n",
        "1. Integer: Used to represent whole quantities such as index.\n",
        "2. Float: This is used to represent quatities with decimal points (i.e not whole) such as the value of pi.\n",
        "3. Strings: This is usually used to represent characters or text objects.\n",
        "4. Boolean: This is used to in Logic reasoning. It allows python to represent inputs (or outputs) in True or False.\n",
        "5. Complex numbers: This is used in representing complex numbers(numbers with imaginary parts) and makes it possible to solve vector problems in pyton."
      ],
      "metadata": {
        "id": "w8WirqN7En1H"
      }
    },
    {
      "cell_type": "markdown",
      "source": [
        "# 4 data structures used in Python and its specific use cases\n",
        "1. Lists: This allows an array of ordered mutable entries and can any data type. e.g List of students in a class.\n",
        "2. Tuples: This is similar to list except, its not mutable. e.g Days of the week.\n",
        "3. Dictionary: This allows for the strorage of multiple varaibles(keys) ancd their objects(values). e.g Names of students and their phone numbers.\n",
        "4. Sets: This allows for the input of unordered entries and can allow users to perform set operations on them such as union and intersections.\n",
        "\n"
      ],
      "metadata": {
        "id": "trC93miEEnTs"
      }
    }
  ]
}